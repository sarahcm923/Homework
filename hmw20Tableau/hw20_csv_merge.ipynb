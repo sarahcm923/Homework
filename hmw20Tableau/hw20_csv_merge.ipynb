{
 "cells": [
  {
   "cell_type": "code",
   "execution_count": 1,
   "metadata": {},
   "outputs": [],
   "source": [
    "import pandas as pd\n",
    "import os"
   ]
  },
  {
   "cell_type": "code",
   "execution_count": 2,
   "metadata": {},
   "outputs": [],
   "source": [
    "# import csv files - adjust header names for oct, nov and dec data to align with previous 9 months\n",
    "#may_df = pd.read_csv(\"/Users/sarahsteimle/Desktop/hw20Resources/201605-citibike-tripdata.csv\")\n",
    "jun_df = pd.read_csv(\"/Users/sarahsteimle/Desktop/hw20Resources/201606-citibike-tripdata.csv\")\n",
    "jul_df = pd.read_csv(\"/Users/sarahsteimle/Desktop/hw20Resources/201607-citibike-tripdata.csv\")\n",
    "aug_df = pd.read_csv(\"/Users/sarahsteimle/Desktop/hw20Resources/201608-citibike-tripdata.csv\")\n",
    "sep_df = pd.read_csv(\"/Users/sarahsteimle/Desktop/hw20Resources/201609-citibike-tripdata.csv\")\n",
    "#oct_df = pd.read_csv(\"/Users/sarahsteimle/Desktop/hw20Resources/201610-citibike-tripdata.csv\", names=['tripduration', 'starttime', 'stoptime', 'start station id',\n",
    " #      'start station name', 'start station latitude',\n",
    "  #     'start station longitude', 'end station id', 'end station name',\n",
    "   #    'end station latitude', 'end station longitude', 'bikeid', 'usertype',\n",
    "    #   'birth year', 'gender'])"
   ]
  },
  {
   "cell_type": "code",
   "execution_count": 3,
   "metadata": {},
   "outputs": [
    {
     "data": {
      "text/plain": [
       "Index(['tripduration', 'starttime', 'stoptime', 'start station id',\n",
       "       'start station name', 'start station latitude',\n",
       "       'start station longitude', 'end station id', 'end station name',\n",
       "       'end station latitude', 'end station longitude', 'bikeid', 'usertype',\n",
       "       'birth year', 'gender'],\n",
       "      dtype='object')"
      ]
     },
     "execution_count": 3,
     "metadata": {},
     "output_type": "execute_result"
    }
   ],
   "source": [
    "# test to see if sep = oct header names\n",
    "sep_df.dtypes.index"
   ]
  },
  {
   "cell_type": "code",
   "execution_count": 4,
   "metadata": {},
   "outputs": [],
   "source": [
    "#oct_df.dtypes.index"
   ]
  },
  {
   "cell_type": "code",
   "execution_count": 5,
   "metadata": {},
   "outputs": [],
   "source": [
    "#may_df = may_df.drop(columns=['end station id', 'start station id', 'bikeid', 'stoptime',\n",
    " #                   'birth year'])\n",
    "jun_df =jun_df.drop(columns=['end station id', 'start station id', 'bikeid', 'stoptime',\n",
    "                    'birth year'])\n",
    "jul_df = jul_df.drop(columns=['end station id', 'start station id', 'bikeid', 'stoptime',\n",
    "                    'birth year'])\n",
    "aug_df = aug_df.drop(columns=['end station id', 'start station id', 'bikeid', 'stoptime',\n",
    "                    'birth year'])\n",
    "sep_df = sep_df.drop(columns=['end station id', 'start station id', 'bikeid', 'stoptime',\n",
    "                    'birth year'])\n",
    "#oct_df = oct_df.drop(columns=['end station id', 'start station id', 'bikeid', 'stoptime',\n",
    " #                   'birth year'])"
   ]
  },
  {
   "cell_type": "code",
   "execution_count": 6,
   "metadata": {},
   "outputs": [],
   "source": [
    "#may_clean_df = may_df[may_df['usertype'] != 'Subscriber']\n",
    "jun_clean_df = jun_df[jun_df['usertype'] != 'Subscriber']\n",
    "jul_clean_df = jul_df[jul_df['usertype'] != 'Subscriber']\n",
    "aug_clean_df = aug_df[aug_df['usertype'] != 'Subscriber']\n",
    "sep_clean_df = sep_df[sep_df['usertype'] != 'Subscriber']\n",
    "#oct_clean_df = oct_df[oct_df['usertype'] != 'Subscriber']"
   ]
  },
  {
   "cell_type": "code",
   "execution_count": 7,
   "metadata": {},
   "outputs": [],
   "source": [
    "writer = pd.ExcelWriter('/Users/sarahsteimle/Desktop/Homework/hmw20Tableau/output.xlsx')\n",
    "#may_clean_df.to_excel(writer,'Sheet1')\n",
    "jun_clean_df.to_excel(writer,'Sheet1')\n",
    "jul_clean_df.to_excel(writer,'Sheet2')\n",
    "aug_clean_df.to_excel(writer,'Sheet3')\n",
    "sep_clean_df.to_excel(writer,'Sheet4')\n",
    "#oct_clean_df.to_excel(writer,'Sheet6')\n",
    "writer.save()"
   ]
  },
  {
   "cell_type": "code",
   "execution_count": null,
   "metadata": {},
   "outputs": [],
   "source": []
  }
 ],
 "metadata": {
  "kernelspec": {
   "display_name": "Python 3",
   "language": "python",
   "name": "python3"
  },
  "language_info": {
   "codemirror_mode": {
    "name": "ipython",
    "version": 3
   },
   "file_extension": ".py",
   "mimetype": "text/x-python",
   "name": "python",
   "nbconvert_exporter": "python",
   "pygments_lexer": "ipython3",
   "version": "3.6.5"
  }
 },
 "nbformat": 4,
 "nbformat_minor": 2
}
